{
 "cells": [
  {
   "cell_type": "code",
   "execution_count": 1,
   "metadata": {},
   "outputs": [],
   "source": [
    "width = 17\n",
    "height = 12.0\n",
    "delimiter = '.'"
   ]
  },
  {
   "cell_type": "code",
   "execution_count": 2,
   "metadata": {},
   "outputs": [
    {
     "name": "stdout",
     "output_type": "stream",
     "text": [
      "17\n"
     ]
    },
    {
     "data": {
      "text/plain": [
       "int"
      ]
     },
     "execution_count": 2,
     "metadata": {},
     "output_type": "execute_result"
    }
   ],
   "source": [
    "# Q1(a) width\n",
    "print(width)\n",
    "type(width)"
   ]
  },
  {
   "cell_type": "code",
   "execution_count": 3,
   "metadata": {},
   "outputs": [
    {
     "name": "stdout",
     "output_type": "stream",
     "text": [
      "8.5\n"
     ]
    },
    {
     "data": {
      "text/plain": [
       "float"
      ]
     },
     "execution_count": 3,
     "metadata": {},
     "output_type": "execute_result"
    }
   ],
   "source": [
    "# Q1(b) width / 2\n",
    "print(width / 2)\n",
    "type(width / 2)"
   ]
  },
  {
   "cell_type": "code",
   "execution_count": 4,
   "metadata": {},
   "outputs": [
    {
     "name": "stdout",
     "output_type": "stream",
     "text": [
      "8\n"
     ]
    },
    {
     "data": {
      "text/plain": [
       "int"
      ]
     },
     "execution_count": 4,
     "metadata": {},
     "output_type": "execute_result"
    }
   ],
   "source": [
    "# Q1(c) width // 2\n",
    "print(width // 2)\n",
    "type(width // 2)"
   ]
  },
  {
   "cell_type": "code",
   "execution_count": 5,
   "metadata": {},
   "outputs": [
    {
     "name": "stdout",
     "output_type": "stream",
     "text": [
      "1.0\n"
     ]
    },
    {
     "data": {
      "text/plain": [
       "float"
      ]
     },
     "execution_count": 5,
     "metadata": {},
     "output_type": "execute_result"
    }
   ],
   "source": [
    "# Q1(d) height // 7\n",
    "print(height // 7)\n",
    "type(height // 7)"
   ]
  },
  {
   "cell_type": "code",
   "execution_count": 12,
   "metadata": {},
   "outputs": [
    {
     "name": "stdout",
     "output_type": "stream",
     "text": [
      "11\n"
     ]
    },
    {
     "data": {
      "text/plain": [
       "int"
      ]
     },
     "execution_count": 12,
     "metadata": {},
     "output_type": "execute_result"
    }
   ],
   "source": [
    "# Q1(e) 1 + 2 * 5\n",
    "print(1 + 2 * 5)\n",
    "type(1 + 2 * 5)"
   ]
  },
  {
   "cell_type": "code",
   "execution_count": 13,
   "metadata": {},
   "outputs": [
    {
     "name": "stdout",
     "output_type": "stream",
     "text": [
      ".....\n"
     ]
    },
    {
     "data": {
      "text/plain": [
       "str"
      ]
     },
     "execution_count": 13,
     "metadata": {},
     "output_type": "execute_result"
    }
   ],
   "source": [
    "# Q1(f) delimiter * 5\n",
    "print(delimiter * 5)\n",
    "type(delimiter * 5)"
   ]
  },
  {
   "cell_type": "code",
   "execution_count": 14,
   "metadata": {},
   "outputs": [
    {
     "name": "stdout",
     "output_type": "stream",
     "text": [
      "13502\n"
     ]
    }
   ],
   "source": [
    "# Q2(a) Use the interactive shell to work out how many seconds in total are in 3 hours, 45 minutes and 2 seconds.\n",
    "print(3 * 60 * 60 + 45 * 60 + 2)"
   ]
  },
  {
   "cell_type": "code",
   "execution_count": 15,
   "metadata": {},
   "outputs": [
    {
     "name": "stdout",
     "output_type": "stream",
     "text": [
      "13502\n"
     ]
    }
   ],
   "source": [
    "# Q2(a) using brackets\n",
    "print((3 * 60 * 60) + (45 * 60) + 2)"
   ]
  },
  {
   "cell_type": "code",
   "execution_count": null,
   "metadata": {},
   "outputs": [],
   "source": [
    "# Q2(b) Replace each occurrence of ??? in the following so that it converts the number of seconds (6149) to hours, minutes and seconds, and outputs these values.\n",
    "# >>> totalSeconds = 6149\n",
    "# >>> seconds = totalSeconds ??? 60\n",
    "# >>> totalMinutes = totalSeconds ??? 60\n",
    "# >>> minutes = ???\n",
    "# >>> hours = ???\n",
    "# >>> print(hours, minutes, seconds)\n",
    "# 1 42 29\n",
    "totalSeconds = 6149\n",
    "seconds = totalSeconds % 60\n",
    "totalMinutes = totalSeconds // 60\n",
    "minutes = totalMinutes % 60\n",
    "hours = totalMinutes // 60\n",
    "print(hours, minutes, seconds)"
   ]
  },
  {
   "cell_type": "code",
   "execution_count": null,
   "metadata": {},
   "outputs": [],
   "source": [
    "# Q3 What happens if you pass the sqrt function that we implemented in the lectures a negative number as a parameter?\n",
    "# Refer to code from lecture. ANSWER: You should get the negatives square root as your answer."
   ]
  },
  {
   "cell_type": "code",
   "execution_count": null,
   "metadata": {},
   "outputs": [],
   "source": [
    "# Q4\n",
    "import math"
   ]
  },
  {
   "cell_type": "code",
   "execution_count": null,
   "metadata": {},
   "outputs": [],
   "source": [
    "help(math)"
   ]
  },
  {
   "cell_type": "code",
   "execution_count": null,
   "metadata": {},
   "outputs": [],
   "source": [
    "# Q4 (a) The sine of 15\n",
    "math.sin(15)"
   ]
  },
  {
   "cell_type": "code",
   "execution_count": 26,
   "metadata": {},
   "outputs": [
    {
     "data": {
      "text/plain": [
       "31502.96086084608"
      ]
     },
     "execution_count": 26,
     "metadata": {},
     "output_type": "execute_result"
    }
   ],
   "source": [
    "# Q4 (b) 63 to the power of 2.5\n",
    "math.pow(63,2.5)"
   ]
  },
  {
   "cell_type": "code",
   "execution_count": 27,
   "metadata": {},
   "outputs": [
    {
     "data": {
      "text/plain": [
       "49.9799959983992"
      ]
     },
     "execution_count": 27,
     "metadata": {},
     "output_type": "execute_result"
    }
   ],
   "source": [
    "# Q4 (c) The square root of 2498\n",
    "math.sqrt(2498)"
   ]
  },
  {
   "cell_type": "code",
   "execution_count": 28,
   "metadata": {},
   "outputs": [
    {
     "data": {
      "text/plain": [
       "3.141592653589793"
      ]
     },
     "execution_count": 28,
     "metadata": {},
     "output_type": "execute_result"
    }
   ],
   "source": [
    "# Q4 (d) π\n",
    "math.pi"
   ]
  },
  {
   "cell_type": "code",
   "execution_count": 42,
   "metadata": {},
   "outputs": [
    {
     "data": {
      "text/plain": [
       "523.5987755982989"
      ]
     },
     "execution_count": 42,
     "metadata": {},
     "output_type": "execute_result"
    }
   ],
   "source": [
    "# Q5 Part 1\n",
    "4.0 * math.pi * math.pow(5, 3) / 3"
   ]
  },
  {
   "cell_type": "code",
   "execution_count": 45,
   "metadata": {},
   "outputs": [
    {
     "data": {
      "text/plain": [
       "945.4499999999999"
      ]
     },
     "execution_count": 45,
     "metadata": {},
     "output_type": "execute_result"
    }
   ],
   "source": [
    "# Q5 Part 2\n",
    "60 * 24.95 * .6 + 3 + 59*.75"
   ]
  },
  {
   "cell_type": "code",
   "execution_count": 44,
   "metadata": {},
   "outputs": [
    {
     "name": "stdout",
     "output_type": "stream",
     "text": [
      "1 42 29\n"
     ]
    }
   ],
   "source": [
    "# Q6 Write a function that takes a number of seconds as an argument and displays the number of hours, minutes and seconds.\n",
    "def time(totalSeconds):\n",
    "   seconds = totalSeconds % 60\n",
    "   totalMinutes = totalSeconds // 60\n",
    "   minutes = totalMinutes % 60\n",
    "   hours = totalMinutes // 60\n",
    "   print(hours, minutes, seconds)\n",
    "\n",
    "time(6149)"
   ]
  },
  {
   "cell_type": "code",
   "execution_count": 46,
   "metadata": {},
   "outputs": [],
   "source": [
    "# Q7 Write a function that takes a number of hours, minutes and seconds as arguments and returns the total number of seconds. Add a suitable doctest to this function, and check that it passes.\n",
    "def breakTime(totalSeconds):\n",
    "\n",
    "    \"\"\"\n",
    "    >>> breakTime(6149)\n",
    "    (1, 42, 29)\n",
    "    >>> breakTime(6149)\n",
    "    (3, 16, 4)\n",
    "    \"\"\"\n",
    "\n",
    "    seconds = totalSeconds % 60\n",
    "    totalMinutes = totalSeconds // 60\n",
    "    minutes = totalMinutes % 60\n",
    "    hours = totalMinutes // 60\n",
    "    return hours, minutes, seconds\n",
    "\n",
    "# To run this doctest, save in a file called breakTime.py and enter the following command on the command line in the directory where breakTime.py is stored:\n",
    "# python3 -m doctest -v breakTime.py"
   ]
  },
  {
   "cell_type": "code",
   "execution_count": 57,
   "metadata": {},
   "outputs": [
    {
     "name": "stdout",
     "output_type": "stream",
     "text": [
      "523.5987755982989\n",
      "945.4499999999999\n"
     ]
    }
   ],
   "source": [
    "# Q8\n",
    "def volume(r):\n",
    "   return 4.0/3 * math.pi * r * r * r\n",
    "# Several ways of implementing this - simplest is:\n",
    "def wholesaleCost(coverprice, number):\n",
    "   return number * coverprice * .6 + 3 + (number - 1) * .75\n",
    "# but safer to check the number is at least one\n",
    "def wholesaleCost(coverprice, number):\n",
    "   if number <= 0:\n",
    "      return 0\n",
    "   return number * coverprice * .6 + 3 + (number - 1) * .75\n",
    "# and even better is to define default values for other parameters:\n",
    "# (see Think Python! 13.5)\n",
    "def wholesaleCost(coverprice, number, discount=0.6, baseshipping=3, extra=0.75):\n",
    "   return number * coverprice * discount + baseshipping + (number - 1) * extra\n",
    "\n",
    "print(volume(5))\n",
    "print(wholesaleCost(24.95,60))"
   ]
  },
  {
   "cell_type": "code",
   "execution_count": 59,
   "metadata": {},
   "outputs": [
    {
     "name": "stdout",
     "output_type": "stream",
     "text": [
      "[0, 1, 2, 3, 4, 5, 6, 7, 8, 9]\n"
     ]
    }
   ],
   "source": [
    "# Q9 Let a by a list. The indexing operator a[n] gives access to the nth element of the list. The slicing operator a[i:j] gives access to a subsequence of the list, and can be given an optional step allowing the subsequence to skip elements. Define a list containing the integers 0, 1, 2, ..., 9 by a = list(range(10)).\n",
    "a = list(range(10))\n",
    "print(a)"
   ]
  },
  {
   "cell_type": "code",
   "execution_count": 60,
   "metadata": {},
   "outputs": [
    {
     "data": {
      "text/plain": [
       "2"
      ]
     },
     "execution_count": 60,
     "metadata": {},
     "output_type": "execute_result"
    }
   ],
   "source": [
    "# Q9 (a) Index into the third element in the list (remember lists start from ZERO).\n",
    "a[2]"
   ]
  },
  {
   "cell_type": "code",
   "execution_count": 61,
   "metadata": {},
   "outputs": [
    {
     "ename": "IndexError",
     "evalue": "list index out of range",
     "output_type": "error",
     "traceback": [
      "\u001b[0;31m---------------------------------------------------------------------------\u001b[0m",
      "\u001b[0;31mIndexError\u001b[0m                                Traceback (most recent call last)",
      "\u001b[0;32m<ipython-input-61-08a0ddde8bd9>\u001b[0m in \u001b[0;36m<module>\u001b[0;34m\u001b[0m\n\u001b[1;32m      1\u001b[0m \u001b[0;31m# Q9 (b) a[10]\u001b[0m\u001b[0;34m\u001b[0m\u001b[0;34m\u001b[0m\u001b[0m\n\u001b[0;32m----> 2\u001b[0;31m \u001b[0ma\u001b[0m\u001b[0;34m[\u001b[0m\u001b[0;36m10\u001b[0m\u001b[0;34m]\u001b[0m\u001b[0;34m\u001b[0m\u001b[0m\n\u001b[0m",
      "\u001b[0;31mIndexError\u001b[0m: list index out of range"
     ]
    }
   ],
   "source": [
    "# Q9 (b) Index into the 11th element, which does not exist, so an error is encouutered.\n",
    "a[10]"
   ]
  },
  {
   "cell_type": "code",
   "execution_count": 62,
   "metadata": {},
   "outputs": [
    {
     "data": {
      "text/plain": [
       "7"
      ]
     },
     "execution_count": 62,
     "metadata": {},
     "output_type": "execute_result"
    }
   ],
   "source": [
    "# Q9 (c) Lists are circular, so you can move through them forwards and backwards. The minus sign is interpreted as backwards.\n",
    "a[-3]"
   ]
  },
  {
   "cell_type": "code",
   "execution_count": 63,
   "metadata": {},
   "outputs": [
    {
     "data": {
      "text/plain": [
       "[0, 1, 2]"
      ]
     },
     "execution_count": 63,
     "metadata": {},
     "output_type": "execute_result"
    }
   ],
   "source": [
    "# Q9 (d) [start:stop] - note stop position element is NOT included.\n",
    "a[0:3]"
   ]
  },
  {
   "cell_type": "code",
   "execution_count": 64,
   "metadata": {},
   "outputs": [
    {
     "data": {
      "text/plain": [
       "[0, 1, 2]"
      ]
     },
     "execution_count": 64,
     "metadata": {},
     "output_type": "execute_result"
    }
   ],
   "source": [
    "# Q9 (e) If the start index is omitted, it defaults to the first index in the list, i.e. 0.\n",
    "a[:3]"
   ]
  },
  {
   "cell_type": "code",
   "execution_count": 65,
   "metadata": {},
   "outputs": [
    {
     "data": {
      "text/plain": [
       "[4, 5, 6, 7, 8, 9]"
      ]
     },
     "execution_count": 65,
     "metadata": {},
     "output_type": "execute_result"
    }
   ],
   "source": [
    "# Q9 (f) If the stop index is omitted, it defaults to the last index in the list.\n",
    "a[4:]"
   ]
  },
  {
   "cell_type": "code",
   "execution_count": 67,
   "metadata": {},
   "outputs": [
    {
     "data": {
      "text/plain": [
       "[0, 1, 2, 3, 4, 5, 6, 7, 8, 9]"
      ]
     },
     "execution_count": 67,
     "metadata": {},
     "output_type": "execute_result"
    }
   ],
   "source": [
    "# Q9 (g) defaults to 0 index to start and last index of list for stop.\n",
    "a[:]\n",
    "# This is an important command. It gives you a true copy of a list. More on this later :)"
   ]
  },
  {
   "cell_type": "code",
   "execution_count": 68,
   "metadata": {},
   "outputs": [
    {
     "data": {
      "text/plain": [
       "[0, 2, 4, 6, 8]"
      ]
     },
     "execution_count": 68,
     "metadata": {},
     "output_type": "execute_result"
    }
   ],
   "source": [
    "# Q9 (h) third parameter (i.e. value 2 in this case) is for step. starts at index 0 and stops at last index of list, stepping through every second element.\n",
    "a[::2]"
   ]
  },
  {
   "cell_type": "code",
   "execution_count": 69,
   "metadata": {},
   "outputs": [
    {
     "data": {
      "text/plain": [
       "[5, 4, 3, 2, 1, 0]"
      ]
     },
     "execution_count": 69,
     "metadata": {},
     "output_type": "execute_result"
    }
   ],
   "source": [
    "# Q9 (i) starts at index 5 and goes to end of list, but because the step value is a negative it moves backwards to the start, one element at a time. \n",
    "a[5::-1]"
   ]
  },
  {
   "cell_type": "code",
   "execution_count": 70,
   "metadata": {},
   "outputs": [
    {
     "data": {
      "text/plain": [
       "6"
      ]
     },
     "execution_count": 70,
     "metadata": {},
     "output_type": "execute_result"
    }
   ],
   "source": [
    "#Q9 (j) Here we have a chaining effect. The result from the first square brackets is passed into the second quare brackets, etc...\n",
    "# a[::2] gave us [0, 2, 4, 6, 8]\n",
    "# a[3] from the previous result, i.e. the 4th elment in the list -> [0, 2, 4, 6, 8] gives us 6\n",
    "a[::2][3]"
   ]
  },
  {
   "cell_type": "code",
   "execution_count": 71,
   "metadata": {},
   "outputs": [
    {
     "data": {
      "text/plain": [
       "4"
      ]
     },
     "execution_count": 71,
     "metadata": {},
     "output_type": "execute_result"
    }
   ],
   "source": [
    "#Q10 (a) a[*] to give 4\n",
    "a[4]"
   ]
  },
  {
   "cell_type": "code",
   "execution_count": 72,
   "metadata": {},
   "outputs": [
    {
     "data": {
      "text/plain": [
       "4"
      ]
     },
     "execution_count": 72,
     "metadata": {},
     "output_type": "execute_result"
    }
   ],
   "source": [
    "#Q10 (b) a[-*] to give 4\n",
    "a[-6]"
   ]
  },
  {
   "cell_type": "code",
   "execution_count": 73,
   "metadata": {},
   "outputs": [
    {
     "data": {
      "text/plain": [
       "[0, 1]"
      ]
     },
     "execution_count": 73,
     "metadata": {},
     "output_type": "execute_result"
    }
   ],
   "source": [
    "#Q10 (c) a[*:*] to give [0, 1]\n",
    "a[0:2]"
   ]
  },
  {
   "cell_type": "code",
   "execution_count": 74,
   "metadata": {},
   "outputs": [
    {
     "data": {
      "text/plain": [
       "[0, 1, 2]"
      ]
     },
     "execution_count": 74,
     "metadata": {},
     "output_type": "execute_result"
    }
   ],
   "source": [
    "#Q10 (d) a[:*] to give [0, 1, 2]\n",
    "a[:3]"
   ]
  },
  {
   "cell_type": "code",
   "execution_count": 76,
   "metadata": {},
   "outputs": [
    {
     "data": {
      "text/plain": [
       "[8, 9]"
      ]
     },
     "execution_count": 76,
     "metadata": {},
     "output_type": "execute_result"
    }
   ],
   "source": [
    "#Q10 (e) a[-*:] to give [8, 9]\n",
    "a[-2:]"
   ]
  },
  {
   "cell_type": "code",
   "execution_count": 77,
   "metadata": {},
   "outputs": [
    {
     "data": {
      "text/plain": [
       "[0, 3, 6, 9]"
      ]
     },
     "execution_count": 77,
     "metadata": {},
     "output_type": "execute_result"
    }
   ],
   "source": [
    "#Q10 (f) a[::*] to give [0, 3, 6, 9]\n",
    "a[::3]"
   ]
  },
  {
   "cell_type": "code",
   "execution_count": 78,
   "metadata": {},
   "outputs": [
    {
     "data": {
      "text/plain": [
       "[9, 6, 3, 0]"
      ]
     },
     "execution_count": 78,
     "metadata": {},
     "output_type": "execute_result"
    }
   ],
   "source": [
    "#Q10 (g) a[::**] to give [9, 6, 3, 0]\n",
    "a[::-3]"
   ]
  },
  {
   "cell_type": "code",
   "execution_count": 79,
   "metadata": {},
   "outputs": [
    {
     "data": {
      "text/plain": [
       "[0, 2, 4, 6, 8]"
      ]
     },
     "execution_count": 79,
     "metadata": {},
     "output_type": "execute_result"
    }
   ],
   "source": [
    "#Q11 (a) Provide code containing one or more slice which gives:\n",
    "#All even numbers in a in ascending order.\n",
    "a[::2]"
   ]
  },
  {
   "cell_type": "code",
   "execution_count": 80,
   "metadata": {},
   "outputs": [
    {
     "data": {
      "text/plain": [
       "[9, 8, 7, 6, 5, 4, 3, 2, 1, 0]"
      ]
     },
     "execution_count": 80,
     "metadata": {},
     "output_type": "execute_result"
    }
   ],
   "source": [
    "#Q11 (b) Provide code containing one or more slice which gives:\n",
    "#The reverse of a.\n",
    "a[::-1]"
   ]
  },
  {
   "cell_type": "code",
   "execution_count": 81,
   "metadata": {},
   "outputs": [
    {
     "data": {
      "text/plain": [
       "[9, 7, 5, 3, 1]"
      ]
     },
     "execution_count": 81,
     "metadata": {},
     "output_type": "execute_result"
    }
   ],
   "source": [
    "#Q11 (c) Provide code containing one or more slice which gives:\n",
    "#All odd numbers in a in descending order.\n",
    "a[::-2]"
   ]
  },
  {
   "cell_type": "code",
   "execution_count": 82,
   "metadata": {},
   "outputs": [
    {
     "data": {
      "text/plain": [
       "[9, 7]"
      ]
     },
     "execution_count": 82,
     "metadata": {},
     "output_type": "execute_result"
    }
   ],
   "source": [
    "#Q11 (d) Provide code containing one or more slice which gives:\n",
    "#The two highest odd numbers in a in descending order.\n",
    "a[::-2][0:2]"
   ]
  },
  {
   "cell_type": "code",
   "execution_count": 87,
   "metadata": {},
   "outputs": [
    {
     "name": "stdout",
     "output_type": "stream",
     "text": [
      "[0, 1, 2, 3, 4, 5, 6, 7, 8, 9]\n",
      "[10, 1, 2, 3, 4, 5, 6, 7, 8, 9]\n"
     ]
    }
   ],
   "source": [
    "#Q12 (a) a[0] = 10\n",
    "a = list(range(10))\n",
    "print(a)\n",
    "a[0]=10\n",
    "print(a)\n",
    "#Changes the value of the first item in the list (index 0) to 10"
   ]
  },
  {
   "cell_type": "code",
   "execution_count": 86,
   "metadata": {},
   "outputs": [
    {
     "name": "stdout",
     "output_type": "stream",
     "text": [
      "[0, 1, 2, 3, 4, 5, 6, 7, 8, 9]\n",
      "[0, 1, 'a', 'b', 4, 5, 6, 7, 8, 9]\n"
     ]
    }
   ],
   "source": [
    "#Q12 (b) a[2:4] = [\"a\", \"b\"]\n",
    "a = list(range(10))\n",
    "print(a)\n",
    "a[2:4] = [\"a\", \"b\"]\n",
    "print(a)\n",
    "#Changes the values in indexes 2 and 3 to \"a\" and \"b\" respectively. NOTE lists can contain a mix of different types."
   ]
  },
  {
   "cell_type": "code",
   "execution_count": 88,
   "metadata": {},
   "outputs": [
    {
     "name": "stdout",
     "output_type": "stream",
     "text": [
      "[0, 1, 2, 3, 4, 5, 6, 7, 8, 9]\n",
      "[0, 1, 'a', 'b', 'c', 'd', 4, 5, 6, 7, 8, 9]\n"
     ]
    }
   ],
   "source": [
    "#Q12 (c) a[2:4] = [\"a\", \"b\", \"c\", \"d\"]\n",
    "a = list(range(10))\n",
    "print(a)\n",
    "a[2:4] = [\"a\", \"b\", \"c\", \"d\"]\n",
    "print(a)\n",
    "#note we have replaced 2 elements by 4"
   ]
  },
  {
   "cell_type": "code",
   "execution_count": 93,
   "metadata": {},
   "outputs": [
    {
     "name": "stdout",
     "output_type": "stream",
     "text": [
      "[0, 1, 2, 3, 4, 5, 6, 7, 8, 9]\n"
     ]
    },
    {
     "ename": "ValueError",
     "evalue": "attempt to assign sequence of size 2 to extended slice of size 1",
     "output_type": "error",
     "traceback": [
      "\u001b[0;31m---------------------------------------------------------------------------\u001b[0m",
      "\u001b[0;31mValueError\u001b[0m                                Traceback (most recent call last)",
      "\u001b[0;32m<ipython-input-93-4889447bdff9>\u001b[0m in \u001b[0;36m<module>\u001b[0;34m\u001b[0m\n\u001b[1;32m      2\u001b[0m \u001b[0ma\u001b[0m \u001b[0;34m=\u001b[0m \u001b[0mlist\u001b[0m\u001b[0;34m(\u001b[0m\u001b[0mrange\u001b[0m\u001b[0;34m(\u001b[0m\u001b[0;36m10\u001b[0m\u001b[0;34m)\u001b[0m\u001b[0;34m)\u001b[0m\u001b[0;34m\u001b[0m\u001b[0m\n\u001b[1;32m      3\u001b[0m \u001b[0mprint\u001b[0m\u001b[0;34m(\u001b[0m\u001b[0ma\u001b[0m\u001b[0;34m)\u001b[0m\u001b[0;34m\u001b[0m\u001b[0m\n\u001b[0;32m----> 4\u001b[0;31m \u001b[0ma\u001b[0m\u001b[0;34m[\u001b[0m\u001b[0;36m2\u001b[0m\u001b[0;34m:\u001b[0m\u001b[0;36m4\u001b[0m\u001b[0;34m:\u001b[0m\u001b[0;36m2\u001b[0m\u001b[0;34m]\u001b[0m \u001b[0;34m=\u001b[0m \u001b[0;34m[\u001b[0m\u001b[0;34m\"a\"\u001b[0m\u001b[0;34m,\u001b[0m \u001b[0;34m\"b\"\u001b[0m\u001b[0;34m]\u001b[0m\u001b[0;34m\u001b[0m\u001b[0m\n\u001b[0m\u001b[1;32m      5\u001b[0m \u001b[0mprint\u001b[0m\u001b[0;34m(\u001b[0m\u001b[0ma\u001b[0m\u001b[0;34m)\u001b[0m\u001b[0;34m\u001b[0m\u001b[0m\n\u001b[1;32m      6\u001b[0m \u001b[0;31m#ValueError: attempt to assign sequence of size 2 to extended slice of size 1\u001b[0m\u001b[0;34m\u001b[0m\u001b[0;34m\u001b[0m\u001b[0m\n",
      "\u001b[0;31mValueError\u001b[0m: attempt to assign sequence of size 2 to extended slice of size 1"
     ]
    }
   ],
   "source": [
    "#Q12 (d) a[2:4:2] = [\"a\", \"b\"]\n",
    "a = list(range(10))\n",
    "print(a)\n",
    "a[2:4:2] = [\"a\", \"b\"]\n",
    "print(a)\n",
    "#ValueError: attempt to assign sequence of size 2 to extended slice of size 1\n",
    "#a[2:4:2] = [2], so we cannot fit [\"a\", \"b\"] into it."
   ]
  },
  {
   "cell_type": "code",
   "execution_count": 95,
   "metadata": {},
   "outputs": [
    {
     "name": "stdout",
     "output_type": "stream",
     "text": [
      "[0, 1, 2, 3, 4, 5, 6, 7, 8, 9]\n",
      "[0, 1, 'a', 3, 'b', 5, 6, 7, 8, 9]\n"
     ]
    }
   ],
   "source": [
    "#Q12 (e) a[2:6:2] = [\"a\", \"b\"]\n",
    "a = list(range(10))\n",
    "print(a)\n",
    "a[2:6:2] = [\"a\", \"b\"]\n",
    "print(a)\n",
    "#a[2:6:2] = [2,4], so we CAN fit [\"a\", \"b\"] into it this time."
   ]
  },
  {
   "cell_type": "code",
   "execution_count": 97,
   "metadata": {},
   "outputs": [
    {
     "name": "stdout",
     "output_type": "stream",
     "text": [
      "[0, 1, 2, 3, 4, 5, 6, 7, 8, 9]\n",
      "[2, 3, 4, 5, 6, 7, 8, 9]\n"
     ]
    }
   ],
   "source": [
    "#Q12 (f) del a[0:2]\n",
    "a = list(range(10))\n",
    "print(a)\n",
    "del a[0:2]\n",
    "print(a)\n",
    "#Deletes index 0 and 1"
   ]
  },
  {
   "cell_type": "code",
   "execution_count": 98,
   "metadata": {},
   "outputs": [
    {
     "name": "stdout",
     "output_type": "stream",
     "text": [
      "[0, 1, 2, 3, 4, 5, 6, 7, 8, 9]\n",
      "[1, 3, 5, 7, 9]\n"
     ]
    }
   ],
   "source": [
    "#Q12 (g) del a[::2]\n",
    "a = list(range(10))\n",
    "print(a)\n",
    "del a[::2]\n",
    "print(a)\n",
    "#Deletes every second element"
   ]
  },
  {
   "cell_type": "code",
   "execution_count": 99,
   "metadata": {},
   "outputs": [
    {
     "name": "stdout",
     "output_type": "stream",
     "text": [
      "[0, 1, 2, 3, 4, 5, 6, 7, 8, 9]\n",
      "[0, 9, 2, 7, 4, 5, 6, 3, 8, 1]\n"
     ]
    }
   ],
   "source": [
    "#Q12 (h) a[1::2] = a[::-2]\n",
    "a = list(range(10))\n",
    "print(a)\n",
    "a[1::2] = a[::-2]\n",
    "print(a)"
   ]
  },
  {
   "cell_type": "code",
   "execution_count": 101,
   "metadata": {},
   "outputs": [
    {
     "name": "stdout",
     "output_type": "stream",
     "text": [
      "[9, 8, 7, 6, 5, 4, 3, 2, 1, 0]\n"
     ]
    }
   ],
   "source": [
    "#Q13\n",
    "a = list(range(9,-1,-1))\n",
    "print(a)"
   ]
  },
  {
   "cell_type": "code",
   "execution_count": 102,
   "metadata": {},
   "outputs": [
    {
     "data": {
      "text/plain": [
       "10"
      ]
     },
     "execution_count": 102,
     "metadata": {},
     "output_type": "execute_result"
    }
   ],
   "source": [
    "#Q13 (a) The number of elements in a.\n",
    "len(a)"
   ]
  },
  {
   "cell_type": "code",
   "execution_count": 103,
   "metadata": {},
   "outputs": [
    {
     "data": {
      "text/plain": [
       "45"
      ]
     },
     "execution_count": 103,
     "metadata": {},
     "output_type": "execute_result"
    }
   ],
   "source": [
    "#Q13 (b) The sum of all elements in a.\n",
    "sum(a)"
   ]
  },
  {
   "cell_type": "code",
   "execution_count": 104,
   "metadata": {},
   "outputs": [
    {
     "data": {
      "text/plain": [
       "35"
      ]
     },
     "execution_count": 104,
     "metadata": {},
     "output_type": "execute_result"
    }
   ],
   "source": [
    "#Q13 (c) The sum of the first 5 elements in a.\n",
    "sum(a[:5])"
   ]
  },
  {
   "cell_type": "code",
   "execution_count": 105,
   "metadata": {},
   "outputs": [
    {
     "data": {
      "text/plain": [
       "0"
      ]
     },
     "execution_count": 105,
     "metadata": {},
     "output_type": "execute_result"
    }
   ],
   "source": [
    "#Q13 (d) The smallest value in a.\n",
    "min(a)"
   ]
  },
  {
   "cell_type": "code",
   "execution_count": 106,
   "metadata": {},
   "outputs": [
    {
     "data": {
      "text/plain": [
       "9"
      ]
     },
     "execution_count": 106,
     "metadata": {},
     "output_type": "execute_result"
    }
   ],
   "source": [
    "#Q13 (e) The maximum of the elements in a whose index is a multiple of 3.\n",
    "max(a[::3])"
   ]
  },
  {
   "cell_type": "code",
   "execution_count": 107,
   "metadata": {},
   "outputs": [
    {
     "data": {
      "text/plain": [
       "[0, 1, 2, 3, 4, 5, 6, 7, 8, 9]"
      ]
     },
     "execution_count": 107,
     "metadata": {},
     "output_type": "execute_result"
    }
   ],
   "source": [
    "#Q13 (f) A copy of a in ascending order.\n",
    "sorted(a)"
   ]
  },
  {
   "cell_type": "code",
   "execution_count": 109,
   "metadata": {},
   "outputs": [
    {
     "name": "stdout",
     "output_type": "stream",
     "text": [
      "4.888888888888889\n",
      "4\n",
      "4\n"
     ]
    }
   ],
   "source": [
    "#Q14 statistics module\n",
    "import statistics\n",
    "a = [9, 3, 5, 4, 10, 4, 3, 2, 4]\n",
    "print(statistics.mean(a))\n",
    "print(statistics.median(a))\n",
    "print(statistics.mode(a))"
   ]
  },
  {
   "cell_type": "code",
   "execution_count": 111,
   "metadata": {},
   "outputs": [
    {
     "name": "stdout",
     "output_type": "stream",
     "text": [
      "1\n",
      "b\n",
      "c\n",
      "4\n"
     ]
    }
   ],
   "source": [
    "#Q15 (a) What does the following code do?\n",
    "# >>> for char in \"1bc4\":\n",
    "# ...     print(char)\n",
    "for char in \"1bc4\":\n",
    "    print(char)\n",
    "# Prints each character of the string on a line by itself."
   ]
  },
  {
   "cell_type": "code",
   "execution_count": 112,
   "metadata": {},
   "outputs": [
    {
     "name": "stdout",
     "output_type": "stream",
     "text": [
      "<class 'str'>\n",
      "<class 'str'>\n",
      "<class 'str'>\n",
      "<class 'str'>\n"
     ]
    }
   ],
   "source": [
    "#Q15 (b) What type does the variable char have in the above loop? (Hint: use the type() function.)\n",
    "for char in \"1bc4\":\n",
    "    print(type(char))\n",
    "# str"
   ]
  },
  {
   "cell_type": "code",
   "execution_count": 114,
   "metadata": {},
   "outputs": [
    {
     "name": "stdout",
     "output_type": "stream",
     "text": [
      "False\n",
      "True\n"
     ]
    }
   ],
   "source": [
    "#Q15 (c) Use the dir() and help() functions (with suitable arguments) to find a function that can be used to determine whether a string contains only alphabetic characters (i.e. only letters – no numbers or whitespace).\n",
    "s = \"lbc4\"\n",
    "s1 = \"lmn\"\n",
    "print(s.isalpha())\n",
    "print(s1.isalpha())\n",
    "# isalpha()"
   ]
  },
  {
   "cell_type": "code",
   "execution_count": 115,
   "metadata": {},
   "outputs": [
    {
     "name": "stdout",
     "output_type": "stream",
     "text": [
      "False\n",
      "True\n",
      "True\n",
      "False\n"
     ]
    }
   ],
   "source": [
    "#Q15 (d) Modify the loop above so that it prints out whether each character is a letter. I.e. it should produce the output:\n",
    "#   False\n",
    "#   True\n",
    "#   True\n",
    "#   False\n",
    "for char in \"1bc4\":\n",
    "    print(char.isalpha())"
   ]
  },
  {
   "cell_type": "code",
   "execution_count": 117,
   "metadata": {},
   "outputs": [
    {
     "name": "stdout",
     "output_type": "stream",
     "text": [
      "not a letter\n",
      "B\n",
      "C\n",
      "not a letter\n"
     ]
    }
   ],
   "source": [
    "#Q15 (e) Modify the loop above so that it considers each character in turn. If it is a letter, it should print it converted to upper case. If it is not a letter, it should print not a letter. I.e. it should produce the output:\n",
    "#  not a letter\n",
    "#  B\n",
    "#  C\n",
    "#  not a letter\n",
    "for char in \"1bc4\":\n",
    "    if char.isalpha():\n",
    "        print(char.upper())\n",
    "    else:\n",
    "        print(\"not a letter\")"
   ]
  }
 ],
 "metadata": {
  "kernelspec": {
   "display_name": "Python 3",
   "language": "python",
   "name": "python3"
  },
  "language_info": {
   "codemirror_mode": {
    "name": "ipython",
    "version": 3
   },
   "file_extension": ".py",
   "mimetype": "text/x-python",
   "name": "python",
   "nbconvert_exporter": "python",
   "pygments_lexer": "ipython3",
   "version": "3.7.0"
  }
 },
 "nbformat": 4,
 "nbformat_minor": 2
}
